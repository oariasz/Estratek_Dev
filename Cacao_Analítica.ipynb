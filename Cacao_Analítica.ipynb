{
  "nbformat": 4,
  "nbformat_minor": 0,
  "metadata": {
    "colab": {
      "name": "Cacao Analítica.ipynb",
      "provenance": [],
      "authorship_tag": "ABX9TyMyMCsvKaR/1kw0tomnK9i0",
      "include_colab_link": true
    },
    "kernelspec": {
      "name": "python3",
      "display_name": "Python 3"
    },
    "language_info": {
      "name": "python"
    }
  },
  "cells": [
    {
      "cell_type": "markdown",
      "metadata": {
        "id": "view-in-github",
        "colab_type": "text"
      },
      "source": [
        "<a href=\"https://colab.research.google.com/github/oariasz/Estratek_Dev/blob/main/Cacao_Anal%C3%ADtica.ipynb\" target=\"_parent\"><img src=\"https://colab.research.google.com/assets/colab-badge.svg\" alt=\"Open In Colab\"/></a>"
      ]
    },
    {
      "cell_type": "code",
      "execution_count": 21,
      "metadata": {
        "id": "VYdbcVdti3wQ",
        "colab": {
          "base_uri": "https://localhost:8080/"
        },
        "outputId": "96ffc057-6e3c-4f47-e8de-fbea7e70a826"
      },
      "outputs": [
        {
          "output_type": "stream",
          "name": "stdout",
          "text": [
            "<class 'pandas.core.frame.DataFrame'>\n",
            "RangeIndex: 2530 entries, 0 to 2529\n",
            "Data columns (total 9 columns):\n",
            " #   Column                            Non-Null Count  Dtype  \n",
            "---  ------                            --------------  -----  \n",
            " 0   REF                               2530 non-null   int64  \n",
            " 1   Company (Manufacturer)            2530 non-null   object \n",
            " 2   Company Location                  2530 non-null   object \n",
            " 3   Review Date                       2530 non-null   int64  \n",
            " 4   Country of Bean Origin            2530 non-null   object \n",
            " 5   Specific Bean Origin or Bar Name  2530 non-null   object \n",
            " 6   Cocoa Percent                     2530 non-null   object \n",
            " 7   Characteristics                   2530 non-null   object \n",
            " 8   Rating                            2530 non-null   float64\n",
            "dtypes: float64(1), int64(2), object(6)\n",
            "memory usage: 178.0+ KB\n"
          ]
        }
      ],
      "source": [
        "import pandas as pd\n",
        "pd.set_option('display.expand_frame_repr', False)\n",
        "import numpy as np\n",
        "import seaborn as sns\n",
        "import matplotlib.pyplot as plt\n",
        "%matplotlib inline \n",
        "import warnings\n",
        "from google.colab import files\n",
        "## warnings.simplefilter('ignore')\n",
        "\n",
        "df = pd.read_excel('Cacao/Chocolate Ratings v2.xlsx', sheet_name = 'Data Maria')\n",
        "df.info()\n"
      ]
    },
    {
      "cell_type": "code",
      "source": [
        "df.drop(['Specific Bean Origin or Bar Name', 'REF'], axis = 1, inplace = True)"
      ],
      "metadata": {
        "id": "rko-3CYlPKun"
      },
      "execution_count": 22,
      "outputs": []
    },
    {
      "cell_type": "code",
      "source": [
        "newcol = ['company', 'location', 'year', 'origin', 'cocoa', 'type', 'rating']\n",
        "df = df.rename(columns = dict(zip(df.columns, newcol)))"
      ],
      "metadata": {
        "id": "yx2GJPKIPOTB"
      },
      "execution_count": 27,
      "outputs": []
    },
    {
      "cell_type": "code",
      "source": [
        "print(df.head(10))"
      ],
      "metadata": {
        "colab": {
          "base_uri": "https://localhost:8080/"
        },
        "id": "foPho31oQcd3",
        "outputId": "c3e826b1-15ae-4f36-f3ca-f57f3bc1fe51"
      },
      "execution_count": 28,
      "outputs": [
        {
          "output_type": "stream",
          "name": "stdout",
          "text": [
            "    company location  year              origin cocoa                                     type  rating\n",
            "0      5150   U.S.A.  2019            Tanzania  0.76              cacao rico, graso, empanado    3.25\n",
            "1      5150   U.S.A.  2019  Dominican Republic  0.76                   cacao, vegetal, salado    3.50\n",
            "2      5150   U.S.A.  2019          Madagascar  0.76               cacao, mora, cuerpo entero    3.75\n",
            "3      5150   U.S.A.  2021                Fiji  0.68              masticable, apagado, gomoso    3.00\n",
            "4      5150   U.S.A.  2021           Venezuela  0.72    graso, terroso, musgo, nuez, calcáreo    3.00\n",
            "5      5150   U.S.A.  2021              Uganda   0.8  cacao ligeramente amargo, básico, graso    3.25\n",
            "6      5150   U.S.A.  2021               India  0.68  brownie de leche, macadamia, masticable    3.50\n",
            "7  A. Morin   France  2012             Bolivia   0.7                            vegetal, nuez    3.50\n",
            "8  A. Morin   France  2012                Peru  0.63                 afrutado, melón, tostado    3.75\n",
            "9  A. Morin   France  2013              Panama   0.7       breve nota de fruta, terrosa, nuez    2.75\n"
          ]
        }
      ]
    },
    {
      "cell_type": "code",
      "source": [
        "plt.subplots(figsize = [10, 4])\n",
        "sns.countplot(df['rating'], color = '#7C7C7C')\n",
        "plt.title('Ratings Distribution')"
      ],
      "metadata": {
        "colab": {
          "base_uri": "https://localhost:8080/",
          "height": 312
        },
        "id": "_fJvTqZdRKbe",
        "outputId": "7e1c2ca6-3dfe-4838-83a4-0f35cf375ccb"
      },
      "execution_count": 29,
      "outputs": [
        {
          "output_type": "execute_result",
          "data": {
            "text/plain": [
              "Text(0.5, 1.0, 'Ratings Distribution')"
            ]
          },
          "metadata": {},
          "execution_count": 29
        },
        {
          "output_type": "display_data",
          "data": {
            "text/plain": [
              "<Figure size 720x288 with 1 Axes>"
            ],
            "image/png": "[encoded data removed]"
          },
          "metadata": {
            "needs_background": "light"
          }
        }
      ]
    },
    {
      "cell_type": "code",
      "source": [
        "print(df['rating'].describe())"
      ],
      "metadata": {
        "colab": {
          "base_uri": "https://localhost:8080/"
        },
        "id": "VTOx6e6lRPxp",
        "outputId": "f11a7412-1088-4f60-d2cf-5c48be88c5f1"
      },
      "execution_count": 30,
      "outputs": [
        {
          "output_type": "stream",
          "name": "stdout",
          "text": [
            "count    2530.000000\n",
            "mean        3.196344\n",
            "std         0.445321\n",
            "min         1.000000\n",
            "25%         3.000000\n",
            "50%         3.250000\n",
            "75%         3.500000\n",
            "max         4.000000\n",
            "Name: rating, dtype: float64\n"
          ]
        }
      ]
    },
    {
      "cell_type": "code",
      "source": [
        "df['rating_set'] = np.where(df['rating'] >= 3.75, 1, 0)\n",
        "print(df['rating_set'].value_counts())"
      ],
      "metadata": {
        "colab": {
          "base_uri": "https://localhost:8080/"
        },
        "id": "AOeBEsqwRW40",
        "outputId": "2aa1437c-77ec-46b3-88ba-868afa11c9e4"
      },
      "execution_count": 31,
      "outputs": [
        {
          "output_type": "stream",
          "name": "stdout",
          "text": [
            "0    2118\n",
            "1     412\n",
            "Name: rating_set, dtype: int64\n"
          ]
        }
      ]
    },
    {
      "cell_type": "code",
      "source": [
        "print(' Porcentaje de alta calidad: ', df['rating_set'].value_counts()[1]/len(df))\n"
      ],
      "metadata": {
        "colab": {
          "base_uri": "https://localhost:8080/"
        },
        "id": "6AkW5iUFRfvM",
        "outputId": "850d7631-1595-4c6e-9b8c-313a2a63fd31"
      },
      "execution_count": 32,
      "outputs": [
        {
          "output_type": "stream",
          "name": "stdout",
          "text": [
            " Porcentaje de alta calidad:  0.16284584980237155\n"
          ]
        }
      ]
    },
    {
      "cell_type": "code",
      "source": [
        "print (df['company'].unique())"
      ],
      "metadata": {
        "colab": {
          "base_uri": "https://localhost:8080/"
        },
        "id": "6I1VrBJER15s",
        "outputId": "c53c29e9-060f-49f1-d00b-2b032bb1236d"
      },
      "execution_count": 36,
      "outputs": [
        {
          "output_type": "stream",
          "name": "stdout",
          "text": [
            "[5150 'A. Morin' 'Acalli' 'Adi aka Fijiana (Easy In Ltd)' 'Aelan'\n",
            " 'Aequare (Gianduja)' 'Ah Cacao' \"Akesson's (Pralus)\" 'Alain Ducasse'\n",
            " 'Alexandre' 'Altus aka Cao Artisan' 'Amano' 'Amatller (Simon Coll)'\n",
            " 'Amazing Cacao' 'Amazona' 'Ambrosia' 'Amedei' 'AMMA' 'Anahata' 'Animas'\n",
            " 'Ara' 'Arete' 'Argencove' 'Artisan du Chocolat'\n",
            " 'Artisan du Chocolat (Casa Luker)' 'Aruntam' 'Askinosie' 'Atypic' 'Auro'\n",
            " 'Avanaa' 'Bahen & Co.' 'Baiani' 'Bakau' 'Bankston' 'Bar Au Chocolat'\n",
            " \"Baravelli's\" 'Batch' 'Bean' 'Beau Cacao' 'Beehive' 'Belcolade'\n",
            " 'Bellflower' 'Belvie' 'Belyzium' 'Benns' 'Benoit Nihant' 'Bernachon'\n",
            " 'Beschle (Felchlin)' 'Bisou' 'Bitacora' 'amargodulce Origins' 'Bixby'\n",
            " 'Black Mountain' 'Black River (A. Morin)' 'Black Sheep' 'Blanxart'\n",
            " 'Blue Bandana' 'Boho' 'Bonaterra' 'Bonnat' 'Bouga Cacao (Tulicorp)'\n",
            " 'Bowler Man' 'Brasstown' \"Brasstown aka It's Chocolate\" 'Brazen'\n",
            " 'Breeze Mill' 'Bright' 'Britarev' 'Bronx Grrl Chocolate' 'Bullion'\n",
            " 'Burnt Fork Bend' 'By Cacao' 'Cacai Cacao' 'Cacao 70' 'Cacao Arabuco'\n",
            " 'Cacao Atlanta' 'Cacao Barry' 'Cacao Betulia' 'Cacao de Origen'\n",
            " 'Cacao Gonzales' 'Cacao Hunters' 'Cacao Market' 'Cacao Prieto'\n",
            " 'Cacao Sampaka' 'Cacao Santa Fe (Art of Chocolate)' 'Cacao Store'\n",
            " 'Cacaodada' 'Cacaosuyo' 'Cacaoyere (Ecuatoriana)' 'Callebaut' 'C-Amaro'\n",
            " 'Cao' 'Caofiori' 'Caoni (Tulicorp)' 'Captain Pembleton' 'CAR Artisan'\n",
            " 'Caribeans' 'Carlotta Chocolat' 'Casa' 'Casa Lasevicius' 'Castronovo'\n",
            " 'Cello' 'Cemoi' 'Chaleur B' 'Chapon' 'Charm School'\n",
            " 'Chchukululu (Tulicorp)' 'Chequessett' 'Chloe Chocolat' 'Chocablog'\n",
            " 'Choco Del Sol' 'Choco Dong' 'Chococard (Lapos)' 'Chocolarder'\n",
            " \"Chocola'te\" 'Chocolate Alchemist-Philly' 'Chocolate Con Amor'\n",
            " 'Chocolate Conspiracy' 'Chocolate Makers' 'Chocolate Tree'\n",
            " 'Chocolates by Josh (Box Chocolate)' 'Chocolatoa' 'Chocolats Privilege'\n",
            " 'Chocolibrium' 'ChocoReko' 'Chocosol' 'Chocotenango' 'Chocovic'\n",
            " 'Chocovivo' 'Choklat' 'Chokola' 'Chokolat Elot (Girard)'\n",
            " 'Christophe Toury' 'Christopher Elbow' 'Christopher Morel (Felchlin)'\n",
            " 'Chuao Chocolatier' 'Chuao Chocolatier (Pralus)' 'Claudio Corallo'\n",
            " 'Cleveland Chocolate Company' 'Cloudforest' 'Coco' 'Cocoa Carib'\n",
            " 'Cocoa Forge' 'Compania de Chocolate (Salgado)' 'Condor' 'Confluence'\n",
            " 'Conjure' 'Coppeneur' \"Cote d' Or (Kraft)\" 'Cravve' 'Creo'\n",
            " 'Crow and Moss' 'Cultura' 'Cuna de Piedra' 'Daintree' 'Dalloway' 'Damson'\n",
            " 'Dancing Lion' 'Dandelion' 'Dandelion (aka Brower Ave)'\n",
            " 'Dandelion (Japan)' 'Danta' 'DAR' 'Darcis' 'Dark Forest' 'Davis'\n",
            " 'De Mendes' 'De Villiers' 'Dean and Deluca (Belcolade)'\n",
            " 'Debauve & Gallais (Michel Cluizel)' 'Definite' 'Desbarres' 'DeVries'\n",
            " 'Dick Taylor' 'Diogo Vaz' 'Doble & Bignall' 'Dole (Guittard)'\n",
            " 'Dolfin (Belcolade)' 'Domori' 'Dormouse' 'Double Spiral' \"Duffy's\"\n",
            " 'Dulcinea' 'Durand' 'Durci' 'East Van Roasters' 'Eau de Rose'\n",
            " 'Eclat (Felchlin)' 'Eclat (Fruition)' 'Edelmond' 'El Buen' 'El Ceibo'\n",
            " 'El Rey' 'Eldora' 'Emerald Estate' \"Emily's\" 'Encuentro' 'ENNA'\n",
            " 'Enric Rovira (Claudio Corallo)' 'Erithaj (A. Morin)' 'Escazu'\n",
            " \"Ethel's Artisan (Mars)\" 'Ethereal' 'Exquisito' 'Fearless (AMMA)'\n",
            " 'Feitoria Cacao' 'Felchlin' 'Finca' 'Finnia' 'Firetree' 'Five (5)Mile'\n",
            " 'FJAK' 'Forever Cacao' 'Forteza (Cortes)' 'Fossa' 'fundido' 'Franceschi'\n",
            " 'Frederic Blondeel' 'French Broad' 'Fresco' 'Fresh Coast'\n",
            " 'Fresh Coast aka Just Good Choc.' 'Friis Holm' 'Friis Holm (Bonnat)'\n",
            " 'Fruition' 'Fu Wan' 'Garden Island' 'Georgia Ramon' 'Glennmade'\n",
            " 'Goodnow Farms' 'Gotham' 'Grand Place' 'Great Lakes'\n",
            " \"Green & Black's (ICAM)\" 'Green Bean to Bar' 'Green Door'\n",
            " 'Grenada Chocolate Co.' 'Guido Castagna' 'Guittard' 'Habitual' 'Hachez'\n",
            " 'Hacienda El Castillo' 'Haigh' 'Harper Macaw' 'Harris & James'\n",
            " 'Hazel Hill' 'Hecho' 'Heilemann' 'Heinde & Verre'\n",
            " 'Heirloom Cacao Preservation (Brasstown)'\n",
            " 'Heirloom Cacao Preservation (Fruition)'\n",
            " 'Heirloom Cacao Preservation (Guittard)'\n",
            " 'Heirloom Cacao Preservation (Manoa)'\n",
            " 'Heirloom Cacao Preservation (Millcreek)'\n",
            " 'Heirloom Cacao Preservation (Mindo)'\n",
            " 'Heirloom Cacao Preservation (Zokoko)' 'hello cocoa (now Markham & Fitz)'\n",
            " 'Hemisphere' 'hexx' 'Hogarth' 'Hoja Verde (Tulicorp)' 'Holy Cacao'\n",
            " 'Honest' 'Hotel Chocolat' 'Hotel Chocolat (Coppeneur)' 'Hummingbird'\n",
            " 'Idilio (Felchlin)' 'Indah' 'Indi' 'iQ Chocolate' 'Isidro'\n",
            " 'Islands Chocolate' 'Izard' 'Jacque Torres' 'Jean Marie Auboine'\n",
            " 'Johnny Iuzzini' 'Jordis' 'Kad Kokoa' 'Kah Kow' 'Kah Kow - USA' 'Kaitxo'\n",
            " 'Kakao' 'Kallari (Ecuatoriana)' 'Kaoka (Cemoi)' 'Kasama' 'Kerchner'\n",
            " \"Ki' Xocolatl\" 'Kin + Pod' 'Kiskadee' 'Krak' 'Kto' \"K'ul\" 'Kyya'\n",
            " 'L.A. Burdick (Felchlin)' 'La Cascade du Chocolat'\n",
            " 'La Chocolaterie Nanairo' 'La Chorena' 'La Feverie (Hasnaa)'\n",
            " 'La Maison du Chocolat (Valrhona)' 'La Oroquidea' 'La Pepa de Oro'\n",
            " 'La Rifa' 'Laia aka Chat-Noir' 'Lajedo do Ouro'\n",
            " 'Lake Champlain (Callebaut)' \"L'Amourette\" 'Land' 'Landmark (Amano)'\n",
            " 'Legast' 'Letterpress' 'Levy' 'Lilla' 'Lillie Belle' 'Lindt & Sprungli'\n",
            " 'Lirio' 'Loiza' 'Lonohana' 'Loon' 'Love Bar' 'Love Brown' 'Luisa Abram'\n",
            " \"Luisa's Vegan\" 'Luker' 'Lumineux' 'Machu Picchu Trading Co.'\n",
            " 'MaDe Atlantic City Chocolate Bar' 'Madecasse (Cinagra)' 'Madhu' 'Madre'\n",
            " 'Maglio' 'Majani' 'Malagasy (Chocolaterie Robert)' 'Malagos' 'Malai'\n",
            " 'Malie Kai (Guittard)' 'Malmo' 'Mana' 'Manifesto Cacao' 'Manoa'\n",
            " 'Manufaktura Czekolady' 'Map Chocolate' 'Marana' 'Maribea'\n",
            " \"Marigold's Finest\" 'Markham & Fitz' 'Marou' 'Mars' 'Marsatta'\n",
            " 'Martin Mayer' 'Mast Brothers' 'Matale' 'Maui Kuia' 'Maverick' 'Mayacama'\n",
            " 'McGuire' 'Meadowlands' 'Mellow' 'Menakao (aka Cinagra)' 'Mesocacao'\n",
            " 'Mestico' 'Metiisto' 'Metropolitan' 'Meybol' 'Michel Cluizel'\n",
            " 'Middlebury' 'Mike & Becky' 'Millcreek Cacao Roasters' 'Millesime'\n",
            " 'Milton' 'Mindo' 'Minimal' 'Mirzam' 'Misina' 'Mission' 'Mita' 'Moho'\n",
            " 'Moka Origins' 'Moku' 'Molucca' 'Momotombo' 'Monarque' 'Monsieur Truffe'\n",
            " 'Monsoon' 'Montecristi' 'MUCHO' 'Muchomas (Mesocacao)'\n",
            " 'Musee du Chocolat Theobroma' 'Mutari' 'Nahua' 'Naive' 'Nanea'\n",
            " 'Nathan Miller' 'Nearynogs' 'Neuhaus (Callebaut)' 'Nibble' 'Night Owl'\n",
            " 'Nikoa' 'Nina' 'Ninth (9th) & Larkin' 'Noble Bean aka Jerjobo'\n",
            " \"Noir d' Ebine\" 'Nova Monda' 'Nuance' 'Nugali' 'Oakland Chocolate Co.'\n",
            " 'Obolo' 'Ocelot' 'Ocho' 'Odyssey' 'Ohiyo' 'Oialla by Bojessen (Malmo)'\n",
            " 'Olive and Sinclair' 'Olivia' 'Omanhene' 'Omnom' 'Or Dubh' 'Orfeve'\n",
            " 'organicfair' 'Original Beans (Felchlin)'\n",
            " 'Original Hawaiin Chocolate Factory' 'Orquidea' 'Pacari' \"Palet D'Or\"\n",
            " 'Palette de Bine' 'Pangea' 'Park 75' 'Parliament' 'Parre Chocolat'\n",
            " 'Pascha' 'Patric' 'Paul Young' 'Peppalo' 'Perrenial' 'Petite Patrie'\n",
            " 'Pierre Marcolini' 'Piety and Desire' 'Pinellas' 'Pitch Dark'\n",
            " 'Pollinator' 'Pomm (aka Dead Dog)' 'Poppy and Peep' 'Potomac' 'Pralus'\n",
            " 'Primo Botanica' 'Public Chocolatory' 'Pump Street Bakery' 'Pura Delizia'\n",
            " 'Q Chocolate' 'Qantu' 'Quetzalli (Wolter)' 'Raaka' 'Rain Republic'\n",
            " 'Rancho San Jacinto' 'Ranger' 'Raoul Boulanger' 'Raphio' 'Raw Cocoa'\n",
            " 'Republica del Cacao (aka Confecta)' 'Ritual' 'River-Sea'\n",
            " 'Roasting Masters' 'Robert (aka Chocolaterie Robert)'\n",
            " 'Rococo (Grenada Chocolate Co.)' 'Rogue' 'Rozsavolgyi' 'Ruket' 'S.A.I.D.'\n",
            " 'Sacred' 'Salgado' 'San Jose' 'Santander (Compania Nacional)' 'Santome'\n",
            " 'Scharffen Berger' 'Seaforth' 'Seahorse' 'Shane Chocolate Works'\n",
            " 'Shark Mountain' \"Shark's\" 'Shattell' 'Sibu' 'Sibu Sura' 'Silvio Bessone'\n",
            " 'Sirene' 'Sjolinds' 'suave Chocolator, The' 'Snake & Butterfly' 'Soeka'\n",
            " 'Soklet' 'Sol Cacao' 'Solkiki' 'Solomons Gold' 'Solstice' 'Soma'\n",
            " 'Somerville' 'Soul' 'Spagnvola' 'Spencer' 'Spinnaker'\n",
            " 'Sprungli (Felchlin)' 'SRSLY' 'Starchild' 'Stella (aka Bernrain)'\n",
            " 'Stone Grindz' 'StRita Supreme' 'Sublime Origins' 'Summerbird'\n",
            " 'Suruca Chocolate' 'Svenska Kakaobolaget' 'dulce beans' 'dulce Escalier'\n",
            " 'dulceness' 'Szanto Tibor' 'Tabal' 'Tablette (aka Vanillabeans)' 'Tala'\n",
            " 'Tan Ban Skrati' 'Taste Artisan' 'Taste Artisan aka Coleman and Davis'\n",
            " 'Taucherli' 'Taylor Made' 'Taza' 'TCHO' 'Tejas' 'Terroir' 'The Barn'\n",
            " 'Theo' 'Theobroma' 'Thistle & Rose aka Aggie USU' 'Tibito'\n",
            " 'Timo A. Meyer' 'Tiny House' \"To'ak\" \"To'ak (Ecuatoriana)\"\n",
            " 'Tobago Estate (Pralus)' 'Tocoti' 'Tosier' 'Tree to Bar' 'Treehouse'\n",
            " 'Treehouse aka Indaphoria' 'Triangle Roasters' 'Tribar' 'Tribe'\n",
            " 'Tsara (Cinagra)' 'twenty-four blackbirds' 'Two Ravens'\n",
            " 'Un Dimanche A Paris' 'Uncouth' 'Undone' 'Upchurch' 'Urzi' 'Utopick'\n",
            " 'Vaka' 'Valrhona' 'Vanleer (Barry Callebaut)'\n",
            " 'Vao Vao (Chocolaterie Robert)' 'Vicuna' 'Videri' 'Vietcacao (A. Morin)'\n",
            " 'Vintage Plantations' 'Vintage Plantations (Tulicorp)' 'Violet Sky'\n",
            " 'Vivra' 'Wellington Chocolate Factory' 'White Label aka Mutari'\n",
            " 'Whittakers' \"Wilkie's Organic\" \"Willie's Cacao\" 'Wm' 'Woodblock'\n",
            " 'Xocolat' 'Xocolatisimo' 'Xocolatl' 'Xocolla' 'Zac Squared' 'Zacharias'\n",
            " \"Zak's\" 'Zart Pralinen' 'Zokoko' 'Zoto (Chocolatoa)' 'Zotter']\n"
          ]
        }
      ]
    },
    {
      "cell_type": "code",
      "source": [
        "df['company'] = df.company.str.replace(r'[^(]*\\(|\\)[^)]*', '')\n",
        "df['company'] = df['company'].str.replace('Na�ve','Naive')\n",
        "df['company'] = df['company'].str.replace('[^\\w\\s]','')\n",
        "df['company'] = df['company'].str.replace('  ','')"
      ],
      "metadata": {
        "id": "lj8S5MpdSRqx"
      },
      "execution_count": 37,
      "outputs": []
    },
    {
      "cell_type": "code",
      "source": [
        "print('Total Companies:', df['company'].nunique(), '\\n----------\\nChocolates per Company - Top 20:')\n",
        "print(df['company'].value_counts().head(20), '\\n----------')\n",
        "print('Median Chocolates per Company:', df.groupby('company')['company'].count().median())"
      ],
      "metadata": {
        "colab": {
          "base_uri": "https://localhost:8080/"
        },
        "id": "45vEXlYdSZyf",
        "outputId": "5b71ab08-6a44-475e-d522-843d997199be"
      },
      "execution_count": 38,
      "outputs": [
        {
          "output_type": "stream",
          "name": "stdout",
          "text": [
            "Total Companies: 531 \n",
            "----------\n",
            "Chocolates per Company - Top 20:\n",
            "Soma                    56\n",
            "Felchlin                43\n",
            "Bonnat                  42\n",
            "Fresco                  39\n",
            "Coppeneur               38\n",
            "Arete                   32\n",
            "Valrhona                32\n",
            "A Morin                 31\n",
            "Pralus                  30\n",
            "Guittard                29\n",
            "Dandelion               25\n",
            "Domori                  23\n",
            "Zotter                  21\n",
            "Castronovo              19\n",
            "Dick Taylor             19\n",
            "Tulicorp                19\n",
            "Mast Brothers           18\n",
            "Duffys                  17\n",
            "suave Chocolator The    17\n",
            "Scharffen Berger        17\n",
            "Name: company, dtype: int64 \n",
            "----------\n",
            "Median Chocolates per Company: 3.0\n"
          ]
        }
      ]
    },
    {
      "cell_type": "code",
      "source": [
        "print('High-Quality Chocolates per Company - Top 20:')\n",
        "print(df.query('rating_set == 1').groupby('company')['company'].count().sort_values(ascending = False).head(20))"
      ],
      "metadata": {
        "colab": {
          "base_uri": "https://localhost:8080/"
        },
        "id": "3-S2d_vPSztq",
        "outputId": "d6600253-71db-4d69-9503-a83e450a5b2d"
      },
      "execution_count": 39,
      "outputs": [
        {
          "output_type": "stream",
          "name": "stdout",
          "text": [
            "High-Quality Chocolates per Company - Top 20:\n",
            "company\n",
            "Soma                    27\n",
            "Felchlin                16\n",
            "Bonnat                  15\n",
            "Arete                   11\n",
            "A Morin                  9\n",
            "Valrhona                 9\n",
            "Fresco                   9\n",
            "Domori                   9\n",
            "Dick Taylor              9\n",
            "suave Chocolator The     8\n",
            "Scharffen Berger         7\n",
            "Fruition                 7\n",
            "Rogue                    7\n",
            "Potomac                  6\n",
            "Friis Holm               6\n",
            "Duffys                   6\n",
            "Pierre Marcolini         6\n",
            "Amano                    5\n",
            "Terroir                  5\n",
            "Sirene                   5\n",
            "Name: company, dtype: int64\n"
          ]
        }
      ]
    },
    {
      "cell_type": "code",
      "source": [
        "print('Total Company Locations:', df['location'].nunique(), '\\n----------')\n",
        "print (df['location'].sort_values().unique())"
      ],
      "metadata": {
        "colab": {
          "base_uri": "https://localhost:8080/"
        },
        "id": "LhPcVUtES_Fa",
        "outputId": "2ed68740-464b-45f4-d3bf-73255176f04d"
      },
      "execution_count": 40,
      "outputs": [
        {
          "output_type": "stream",
          "name": "stdout",
          "text": [
            "Total Company Locations: 67 \n",
            "----------\n",
            "['Amsterdam' 'Argentina' 'Australia' 'Austria' 'Belgium' 'Bolivia'\n",
            " 'Brazil' 'Canada' 'Chile' 'Colombia' 'Costa Rica' 'Czech Republic'\n",
            " 'Denmark' 'Dominican Republic' 'Ecuador' 'El Salvador' 'Fiji' 'Finland'\n",
            " 'France' 'Germany' 'Ghana' 'Grenada' 'Guatemala' 'Honduras' 'Hungary'\n",
            " 'Iceland' 'India' 'Ireland' 'Israel' 'Italy' 'Japan' 'Lithuania'\n",
            " 'Madagascar' 'Malaysia' 'Martinique' 'Mexico' 'Netherlands' 'New Zealand'\n",
            " 'Nicaragua' 'Norway' 'Peru' 'Philippines' 'Poland' 'Portugal'\n",
            " 'Puerto Rico' 'Russia' 'Sao Tome' 'Sao Tome & Principe' 'Scotland'\n",
            " 'Singapore' 'South Africa' 'South Korea' 'Spain' 'St. Lucia'\n",
            " 'St.Vincent-Grenadines' 'Suriname' 'Sweden' 'Switzerland' 'Taiwan'\n",
            " 'Thailand' 'U.A.E.' 'U.K.' 'U.S.A.' 'Vanuatu' 'Venezuela' 'Vietnam'\n",
            " 'Wales']\n"
          ]
        }
      ]
    },
    {
      "cell_type": "code",
      "source": [
        "print('Company Locations - Top 20:')\n",
        "print(df['location'].value_counts().head(20))"
      ],
      "metadata": {
        "colab": {
          "base_uri": "https://localhost:8080/"
        },
        "id": "Z7GVRorgTB8u",
        "outputId": "94470f81-b736-4d0d-e42b-22cf3152c583"
      },
      "execution_count": 41,
      "outputs": [
        {
          "output_type": "stream",
          "name": "stdout",
          "text": [
            "Company Locations - Top 20:\n",
            "U.S.A.         1136\n",
            "Canada          177\n",
            "France          176\n",
            "U.K.            133\n",
            "Italy            78\n",
            "Belgium          63\n",
            "Ecuador          58\n",
            "Australia        53\n",
            "Switzerland      44\n",
            "Germany          42\n",
            "Spain            36\n",
            "Venezuela        31\n",
            "Japan            31\n",
            "Denmark          31\n",
            "Austria          30\n",
            "Colombia         29\n",
            "New Zealand      27\n",
            "Hungary          26\n",
            "Brazil           25\n",
            "Peru             23\n",
            "Name: location, dtype: int64\n"
          ]
        }
      ]
    },
    {
      "cell_type": "code",
      "source": [
        "sty = df[['location', 'rating']]\n",
        "sty = sty[sty['location'].str.contains('Switzerland|Belgium|France|Spain|Italy|U.S.A')]\n",
        "dict_sty = {'Switzerland':'Swiss/Belgian', \n",
        "                  'Belgium':'Swiss/Belgian',\n",
        "                  'France':'French',\n",
        "                  'Spain':'French',\n",
        "                  'Italy':'French',\n",
        "                  'U.S.A.':'American'}\n",
        "sty['style'] = sty['location'].map(dict_sty)\n",
        "\n",
        "plt.figure(figsize = (6, 4))\n",
        "p = sty[['style', 'rating']].sort_values('style', ascending = True)\n",
        "sns.boxplot(x = 'rating', y = 'style', data = p)\n",
        "plt.title('Boxplot: Rating by Chocolate Style')"
      ],
      "metadata": {
        "colab": {
          "base_uri": "https://localhost:8080/",
          "height": 312
        },
        "id": "t-Wj4YJVTRXz",
        "outputId": "d4c0da6b-ffcd-4518-99e4-4f2b859b00a0"
      },
      "execution_count": 42,
      "outputs": [
        {
          "output_type": "execute_result",
          "data": {
            "text/plain": [
              "Text(0.5, 1.0, 'Boxplot: Rating by Chocolate Style')"
            ]
          },
          "metadata": {},
          "execution_count": 42
        },
        {
          "output_type": "display_data",
          "data": {
            "text/plain": [
              "<Figure size 432x288 with 1 Axes>"
            ],
            "image/png": "[encoded data removed]"
          },
          "metadata": {
            "needs_background": "light"
          }
        }
      ]
    },
    {
      "cell_type": "code",
      "source": [
        "paises_origen = df['origin'].sort_values().unique()\n",
        "print (paises_origen)\n",
        "print ('Total países de origen del cacao: ', len(paises_origen))"
      ],
      "metadata": {
        "colab": {
          "base_uri": "https://localhost:8080/"
        },
        "id": "Tm3RqnY2TrrA",
        "outputId": "09b26f2a-e848-49da-d43f-60ba1329f518"
      },
      "execution_count": 51,
      "outputs": [
        {
          "output_type": "stream",
          "name": "stdout",
          "text": [
            "['(multiple)' 'Australia' 'Belize' 'Bolivia' 'Brazil' 'Burma' 'Cameroon'\n",
            " 'China' 'Colombia' 'Congo' 'Costa Rica' 'Cuba' 'DR Congo'\n",
            " 'Dominican Republic' 'Ecuador' 'El Salvador' 'Fiji' 'Gabon' 'Ghana'\n",
            " 'Grenada' 'Guatemala' 'Haiti' 'Honduras' 'India' 'Indonesia'\n",
            " 'Ivory Coast' 'Jamaica' 'Liberia' 'Madagascar' 'Malaysia' 'Martinique'\n",
            " 'Mexico' 'Nicaragua' 'Nigeria' 'Panama' 'Papua New Guinea' 'Peru'\n",
            " 'Philippines' 'Principe' 'Puerto Rico' 'Samoa' 'Sao Tome' 'Sierra Leone'\n",
            " 'Sri Lanka' 'St. Lucia' 'Sulawesi' 'Sumatra' 'Suriname' 'Taiwan'\n",
            " 'Tanzania' 'Tobago' 'Togo' 'Trinidad' 'U.S.A.' 'Vanuatu' 'Venezuela'\n",
            " 'Vietnam']\n",
            "Total países de origen del cacao:  57\n"
          ]
        }
      ]
    },
    {
      "cell_type": "code",
      "source": [
        "df.loc[df['origin'].str.contains(',|&|and|/|-|Blend|blend|South America|West Africa', na = False), 'origin'] = '(multiple)'\n",
        "df['origin'].fillna('(not specified)', inplace = True)\n",
        "paises_origen = df['origin'].sort_values().unique()\n",
        "print (paises_origen)\n",
        "print ('Total países de origen del cacao: ', len(paises_origen))"
      ],
      "metadata": {
        "colab": {
          "base_uri": "https://localhost:8080/"
        },
        "id": "C5oJIugJTyOE",
        "outputId": "109d603b-3df7-4c65-f316-5be5519f3c4f"
      },
      "execution_count": 52,
      "outputs": [
        {
          "output_type": "stream",
          "name": "stdout",
          "text": [
            "['(multiple)' 'Australia' 'Belize' 'Bolivia' 'Brazil' 'Burma' 'Cameroon'\n",
            " 'China' 'Colombia' 'Congo' 'Costa Rica' 'Cuba' 'DR Congo'\n",
            " 'Dominican Republic' 'Ecuador' 'El Salvador' 'Fiji' 'Gabon' 'Ghana'\n",
            " 'Grenada' 'Guatemala' 'Haiti' 'Honduras' 'India' 'Indonesia'\n",
            " 'Ivory Coast' 'Jamaica' 'Liberia' 'Madagascar' 'Malaysia' 'Martinique'\n",
            " 'Mexico' 'Nicaragua' 'Nigeria' 'Panama' 'Papua New Guinea' 'Peru'\n",
            " 'Philippines' 'Principe' 'Puerto Rico' 'Samoa' 'Sao Tome' 'Sierra Leone'\n",
            " 'Sri Lanka' 'St. Lucia' 'Sulawesi' 'Sumatra' 'Suriname' 'Taiwan'\n",
            " 'Tanzania' 'Tobago' 'Togo' 'Trinidad' 'U.S.A.' 'Vanuatu' 'Venezuela'\n",
            " 'Vietnam']\n",
            "Total países de origen del cacao:  57\n"
          ]
        }
      ]
    },
    {
      "cell_type": "code",
      "source": [
        "matrix = pd.crosstab(df['location'], df['origin'])\n",
        "matrix['tot'] = matrix.sum(axis = 1)\n",
        "matrix = matrix.sort_values('tot', ascending = False)\n",
        "matrix = matrix.drop('tot', axis = 1)\n",
        "\n",
        "plt.subplots(figsize = [16, 4])\n",
        "sns.heatmap(matrix.head(10), linewidths = .2, cmap ='binary')\n",
        "plt.title('Company Location v. Bean Origin')"
      ],
      "metadata": {
        "colab": {
          "base_uri": "https://localhost:8080/",
          "height": 402
        },
        "id": "IWHoTIloU2-0",
        "outputId": "b1793ad5-8c4f-4623-e5e5-b3aba581d2f4"
      },
      "execution_count": 54,
      "outputs": [
        {
          "output_type": "execute_result",
          "data": {
            "text/plain": [
              "Text(0.5, 1.0, 'Company Location v. Bean Origin')"
            ]
          },
          "metadata": {},
          "execution_count": 54
        },
        {
          "output_type": "display_data",
          "data": {
            "text/plain": [
              "<Figure size 1152x288 with 2 Axes>"
            ],
            "image/png": "[encoded data removed]"
          },
          "metadata": {
            "needs_background": "light"
          }
        }
      ]
    },
    {
      "cell_type": "code",
      "source": [
        "print (df['type'].sort_values().unique())"
      ],
      "metadata": {
        "colab": {
          "base_uri": "https://localhost:8080/"
        },
        "id": "RzV7AWLpVEON",
        "outputId": "fdc521ab-ce4e-4955-b6ae-6a5040160464"
      },
      "execution_count": 55,
      "outputs": [
        {
          "output_type": "stream",
          "name": "stdout",
          "text": [
            "['Easter candy, burnt' 'XL nibs, ácido, cardboard' 'acaramelado and cacao'\n",
            " ... 'ácido, terroso' 'ácido, terroso, tostado' 'áspero, cuero, terroso']\n"
          ]
        }
      ]
    },
    {
      "cell_type": "markdown",
      "source": [
        "Aquí debo cambiar los tipos de cacao.  Debo chequear si la data es la misma comparando el CSV con el Excel"
      ],
      "metadata": {
        "id": "7A6yedtNVWW_"
      }
    },
    {
      "cell_type": "code",
      "source": [
        "dict_type = {'Amazon':'Forastero', \n",
        "                  'Amazon mix':'Forastero',\n",
        "                  'Amazon, ICS':'Forastero',\n",
        "                  'Beniano':'Forastero',\n",
        "                  'Blend':'blend',\n",
        "                  'Blend-Forastero,Criollo':'blend',\n",
        "                  'CCN51':'hybrid',\n",
        "                  'Criollo':'Criollo',\n",
        "                  'Criollo (Amarru)':'Criollo',\n",
        "                  'Criollo (Ocumare 61)':'hybrid',\n",
        "                  'Criollo (Ocumare 67)':'hybrid',\n",
        "                  'Criollo (Ocumare 77)':'hybrid',\n",
        "                  'Criollo (Ocumare)':'hybrid',\n",
        "                  'Criollo (Porcelana)':'Criollo',\n",
        "                  'Criollo (Wild)':'Criollo',\n",
        "                  'Criollo, +':'Criollo',\n",
        "                  'Criollo, Forastero':'blend',\n",
        "                  'Criollo, Trinitario':'blend',\n",
        "                  'EET':'hybrid',\n",
        "                  'Forastero':'Forastero',\n",
        "                  'Forastero (Amelonado)':'Forastero',\n",
        "                  'Forastero (Arriba)':'Forastero',\n",
        "                  'Forastero (Arriba) ASS':'Forastero',\n",
        "                  'Forastero (Arriba) ASSS':'Forastero',\n",
        "                  'Forastero (Catongo)':'Forastero',\n",
        "                  'Forastero (Nacional)':'Forastero',\n",
        "                  'Forastero (Parazinho)':'Forastero',\n",
        "                  'Forastero(Arriba, CCN)':'hybrid',\n",
        "                  'Forastero, Trinitario':'blend',\n",
        "                  'Matina':'hybrid',\n",
        "                  'Nacional':'Forastero',\n",
        "                  'Nacional (Arriba)':'Forastero',\n",
        "                  'Trinitario':'Trinitario',\n",
        "                  'Trinitario (85% Criollo)':'blend',\n",
        "                  'Trinitario (Amelonado)':'Trinitario',\n",
        "                  'Trinitario (Scavina)':'Trinitario',\n",
        "                  'Trinitario, Criollo':'blend',\n",
        "                  'Trinitario, Forastero':'blend',\n",
        "                  'Trinitario, Nacional':'blend',\n",
        "                  'Trinitario, TCGA':'Trinitario',\n",
        "                  'blend':'blend'}\n",
        "df['varietal'] = df['type'].map(dict_type)\n",
        "df['varietal'].fillna('not specified', inplace = True)"
      ],
      "metadata": {
        "id": "nefXdMgdVNJo"
      },
      "execution_count": 56,
      "outputs": []
    },
    {
      "cell_type": "code",
      "source": [
        "print('Relative Frequency of Bean Varietals:')\n",
        "print(df['varietal'].value_counts(normalize = True))"
      ],
      "metadata": {
        "colab": {
          "base_uri": "https://localhost:8080/"
        },
        "id": "kcUK98_2VR7J",
        "outputId": "ca5caeb6-2703-4cad-bc14-d1d8952730fd"
      },
      "execution_count": 57,
      "outputs": [
        {
          "output_type": "stream",
          "name": "stdout",
          "text": [
            "Relative Frequency of Bean Varietals:\n",
            "not specified    1.0\n",
            "Name: varietal, dtype: float64\n"
          ]
        }
      ]
    },
    {
      "cell_type": "code",
      "source": [
        "v = df[['varietal', 'rating']]\n",
        "def describe_var(x):\n",
        "    if x == 'not specified':\n",
        "        return 0\n",
        "    else:\n",
        "        return 1\n",
        "v['is_known'] = v['varietal'].apply(describe_var)\n",
        "\n",
        "plt.figure(figsize = (6, 4))\n",
        "sns.boxplot(x = 'is_known', y ='rating', data = v)\n",
        "plt.title('Boxplot, Rating by Bean Varietial: Known v. Not Specified')"
      ],
      "metadata": {
        "colab": {
          "base_uri": "https://localhost:8080/",
          "height": 313
        },
        "id": "e8FJUoeFVsu1",
        "outputId": "060aff07-79a5-4898-d2a8-b956846cd03a"
      },
      "execution_count": 58,
      "outputs": [
        {
          "output_type": "execute_result",
          "data": {
            "text/plain": [
              "Text(0.5, 1.0, 'Boxplot, Rating by Bean Varietial: Known v. Not Specified')"
            ]
          },
          "metadata": {},
          "execution_count": 58
        },
        {
          "output_type": "display_data",
          "data": {
            "text/plain": [
              "<Figure size 432x288 with 1 Axes>"
            ],
            "image/png": "[encoded data removed]"
          },
          "metadata": {
            "needs_background": "light"
          }
        }
      ]
    },
    {
      "cell_type": "code",
      "source": [
        "df['cocoa'] = df['cocoa'].str.replace('%','').astype(float) / 100\n"
      ],
      "metadata": {
        "id": "QkELr5OqW1IR"
      },
      "execution_count": null,
      "outputs": []
    },
    {
      "cell_type": "code",
      "source": [
        "print (df['cocoa'].sort_values().unique())"
      ],
      "metadata": {
        "colab": {
          "base_uri": "https://localhost:8080/"
        },
        "id": "ceKwgChHXEuR",
        "outputId": "cfd562c8-06b4-45b3-8b82-4ffc9fda794a"
      },
      "execution_count": 62,
      "outputs": [
        {
          "output_type": "stream",
          "name": "stdout",
          "text": [
            "[0.605 0.715 0.725 0.735   nan]\n"
          ]
        }
      ]
    },
    {
      "cell_type": "code",
      "source": [
        "print('Relative Frequency of Cocoa Percentage - Top 10:')\n",
        "print(df['cocoa'].value_counts(normalize = True).head(10))"
      ],
      "metadata": {
        "colab": {
          "base_uri": "https://localhost:8080/"
        },
        "id": "LWsN_oXjXeYA",
        "outputId": "beeef691-d21b-4dc8-a405-c99307d9425b"
      },
      "execution_count": 63,
      "outputs": [
        {
          "output_type": "stream",
          "name": "stdout",
          "text": [
            "Relative Frequency of Cocoa Percentage - Top 10:\n",
            "0.725    0.444444\n",
            "0.735    0.222222\n",
            "0.715    0.222222\n",
            "0.605    0.111111\n",
            "Name: cocoa, dtype: float64\n"
          ]
        }
      ]
    },
    {
      "cell_type": "code",
      "source": [
        "sns.jointplot(x = 'cocoa', y ='rating', data = df, color = '#7C7C7C')"
      ],
      "metadata": {
        "colab": {
          "base_uri": "https://localhost:8080/",
          "height": 458
        },
        "id": "TcAK_Kr8Xqlb",
        "outputId": "3e57b081-748e-44e3-c12e-1259e935ca11"
      },
      "execution_count": 64,
      "outputs": [
        {
          "output_type": "execute_result",
          "data": {
            "text/plain": [
              "<seaborn.axisgrid.JointGrid at 0x7faa3c1f9210>"
            ]
          },
          "metadata": {},
          "execution_count": 64
        },
        {
          "output_type": "display_data",
          "data": {
            "text/plain": [
              "<Figure size 432x432 with 3 Axes>"
            ],
            "image/png": "[encoded data removed]"
          },
          "metadata": {
            "needs_background": "light"
          }
        }
      ]
    },
    {
      "cell_type": "code",
      "source": [
        "print('Distribution by Year:')\n",
        "print(df.groupby(['year']).size().reset_index(name = 'count'))"
      ],
      "metadata": {
        "colab": {
          "base_uri": "https://localhost:8080/"
        },
        "id": "3r_KO5_NX3eq",
        "outputId": "272515bd-3017-41ac-a7b2-5ebd275ce240"
      },
      "execution_count": 65,
      "outputs": [
        {
          "output_type": "stream",
          "name": "stdout",
          "text": [
            "Distribution by Year:\n",
            "    year  count\n",
            "0   2006     62\n",
            "1   2007     73\n",
            "2   2008     92\n",
            "3   2009    123\n",
            "4   2010    110\n",
            "5   2011    163\n",
            "6   2012    194\n",
            "7   2013    183\n",
            "8   2014    247\n",
            "9   2015    284\n",
            "10  2016    217\n",
            "11  2017    105\n",
            "12  2018    228\n",
            "13  2019    193\n",
            "14  2020     81\n",
            "15  2021    175\n"
          ]
        }
      ]
    },
    {
      "cell_type": "code",
      "source": [
        "plt.subplots(figsize = [10, 4])\n",
        "sns.countplot(df['year'], color = '#7C7C7C')\n",
        "plt.title('Distribution by Year')"
      ],
      "metadata": {
        "colab": {
          "base_uri": "https://localhost:8080/",
          "height": 312
        },
        "id": "BfMv4bFvYPa1",
        "outputId": "c55fa7fb-36fb-4d59-e527-75960320606f"
      },
      "execution_count": 66,
      "outputs": [
        {
          "output_type": "execute_result",
          "data": {
            "text/plain": [
              "Text(0.5, 1.0, 'Distribution by Year')"
            ]
          },
          "metadata": {},
          "execution_count": 66
        },
        {
          "output_type": "display_data",
          "data": {
            "text/plain": [
              "<Figure size 720x288 with 1 Axes>"
            ],
            "image/png": "[encoded data removed]"
          },
          "metadata": {
            "needs_background": "light"
          }
        }
      ]
    },
    {
      "cell_type": "code",
      "source": [
        "plt.figure(figsize = (8, 4))\n",
        "p = df[['year', 'rating']].sort_values('year', ascending = True)\n",
        "sns.color_palette(\"colorblind\")\n",
        "sns.boxplot(x = 'year', y = 'rating', data = p)\n",
        "plt.title('Boxplot: Rating by Year')"
      ],
      "metadata": {
        "colab": {
          "base_uri": "https://localhost:8080/",
          "height": 312
        },
        "id": "KpG2W-meYmgO",
        "outputId": "b4294222-9b57-4d10-c797-5952405bed7b"
      },
      "execution_count": 67,
      "outputs": [
        {
          "output_type": "execute_result",
          "data": {
            "text/plain": [
              "Text(0.5, 1.0, 'Boxplot: Rating by Year')"
            ]
          },
          "metadata": {},
          "execution_count": 67
        },
        {
          "output_type": "display_data",
          "data": {
            "text/plain": [
              "<Figure size 576x288 with 1 Axes>"
            ],
            "image/png": "[encoded data removed]"
          },
          "metadata": {
            "needs_background": "light"
          }
        }
      ]
    }
  ]
}